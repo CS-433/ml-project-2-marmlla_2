{
 "cells": [
  {
   "cell_type": "code",
   "execution_count": 62,
   "metadata": {},
   "outputs": [],
   "source": [
    "import pandas as pd \n",
    "import numpy as np \n"
   ]
  },
  {
   "cell_type": "code",
   "execution_count": 63,
   "metadata": {},
   "outputs": [
    {
     "name": "stdout",
     "output_type": "stream",
     "text": [
      "CHF_USD.csv 5000 0 2000-01-03 00:00:00 2019-03-06 00:00:00\n",
      "CHF_EUR.csv 5000 0 2000-01-03 00:00:00 2019-03-06 00:00:00\n",
      "CHF_GBP.csv 5000 0 2000-01-03 00:00:00 2019-03-06 00:00:00\n",
      "CHF_JPY.csv 5000 0 2000-01-03 00:00:00 2019-03-06 00:00:00\n",
      "CHF_CAD.csv 5000 0 2000-01-03 00:00:00 2019-03-06 00:00:00\n",
      "SMI.csv 5000 0 2000-01-04 00:00:00 2019-11-04 00:00:00\n",
      "USD_JPY.csv 5000 0 2000-01-03 00:00:00 2019-03-05 00:00:00\n",
      "USD_EUR.csv 5000 0 2000-01-03 00:00:00 2019-03-06 00:00:00\n",
      "USD_GBP.csv 5000 0 2000-01-04 00:00:00 2019-03-13 00:00:00\n",
      "USD_CAD.csv 5000 0 2000-01-03 00:00:00 2019-03-05 00:00:00\n",
      "SP500.csv 5000 0 2000-01-03 00:00:00 2019-11-14 00:00:00\n",
      "--\n"
     ]
    }
   ],
   "source": [
    "label= [\n",
    "    'CHF_USD.csv',\n",
    "\n",
    "    'CHF_EUR.csv',\n",
    "    'CHF_GBP.csv',\n",
    "    'CHF_JPY.csv',\n",
    "    'CHF_CAD.csv',\n",
    "    'SMI.csv',\n",
    "    \n",
    "    'USD_JPY.csv',\n",
    "    'USD_EUR.csv',\n",
    "    'USD_GBP.csv',\n",
    "    'USD_CAD.csv',\n",
    "    'SP500.csv'\n",
    "]\n",
    "df = []\n",
    "for name in label:\n",
    "    b = pd.read_csv(name)[['Date', 'Open']]\n",
    "   # print(name,len(b), b.isnull().sum().sum(), b.Date.iloc[-1], b.Date.iloc[0])\n",
    "    b.Date = pd.to_datetime(b.Date)\n",
    "    b.Open = b.Open.astype(str)\n",
    "    b.Open = b.Open.apply(lambda x: x.replace(',','') )\n",
    "\n",
    "    b.Open = b.Open.astype(float)\n",
    "    b = b.rename(columns={'Open':'Open_'+name[:-4]})\n",
    "    df.append(b)\n",
    "    print(name,len(b), b.isnull().sum().sum(), b.Date.iloc[-1], b.Date.iloc[0])\n",
    "print(\"--\")\n"
   ]
  },
  {
   "cell_type": "code",
   "execution_count": 64,
   "metadata": {},
   "outputs": [
    {
     "data": {
      "text/html": [
       "<div>\n",
       "<style scoped>\n",
       "    .dataframe tbody tr th:only-of-type {\n",
       "        vertical-align: middle;\n",
       "    }\n",
       "\n",
       "    .dataframe tbody tr th {\n",
       "        vertical-align: top;\n",
       "    }\n",
       "\n",
       "    .dataframe thead th {\n",
       "        text-align: right;\n",
       "    }\n",
       "</style>\n",
       "<table border=\"1\" class=\"dataframe\">\n",
       "  <thead>\n",
       "    <tr style=\"text-align: right;\">\n",
       "      <th></th>\n",
       "      <th>Date</th>\n",
       "      <th>Open_CHF_USD</th>\n",
       "      <th>Open_CHF_EUR</th>\n",
       "      <th>Open_CHF_GBP</th>\n",
       "      <th>Open_CHF_JPY</th>\n",
       "      <th>Open_CHF_CAD</th>\n",
       "      <th>Open_SMI</th>\n",
       "      <th>Open_USD_JPY</th>\n",
       "      <th>Open_USD_EUR</th>\n",
       "      <th>Open_USD_GBP</th>\n",
       "      <th>Open_USD_CAD</th>\n",
       "      <th>Open_SP500</th>\n",
       "    </tr>\n",
       "  </thead>\n",
       "  <tbody>\n",
       "    <tr>\n",
       "      <th>0</th>\n",
       "      <td>2019-03-05</td>\n",
       "      <td>1.0009</td>\n",
       "      <td>0.8827</td>\n",
       "      <td>0.7589</td>\n",
       "      <td>111.85</td>\n",
       "      <td>1.3316</td>\n",
       "      <td>9358.95</td>\n",
       "      <td>111.72</td>\n",
       "      <td>0.8820</td>\n",
       "      <td>0.7589</td>\n",
       "      <td>1.3303</td>\n",
       "      <td>2794.41</td>\n",
       "    </tr>\n",
       "    <tr>\n",
       "      <th>1</th>\n",
       "      <td>2019-03-04</td>\n",
       "      <td>1.0015</td>\n",
       "      <td>0.8797</td>\n",
       "      <td>0.7562</td>\n",
       "      <td>111.88</td>\n",
       "      <td>1.3307</td>\n",
       "      <td>9431.70</td>\n",
       "      <td>111.77</td>\n",
       "      <td>0.8788</td>\n",
       "      <td>0.7554</td>\n",
       "      <td>1.3293</td>\n",
       "      <td>2814.37</td>\n",
       "    </tr>\n",
       "    <tr>\n",
       "      <th>2</th>\n",
       "      <td>2019-03-01</td>\n",
       "      <td>1.0016</td>\n",
       "      <td>0.8809</td>\n",
       "      <td>0.7553</td>\n",
       "      <td>111.57</td>\n",
       "      <td>1.3195</td>\n",
       "      <td>9431.83</td>\n",
       "      <td>111.39</td>\n",
       "      <td>0.8785</td>\n",
       "      <td>0.7540</td>\n",
       "      <td>1.3172</td>\n",
       "      <td>2798.22</td>\n",
       "    </tr>\n",
       "    <tr>\n",
       "      <th>3</th>\n",
       "      <td>2019-02-28</td>\n",
       "      <td>0.9984</td>\n",
       "      <td>0.8781</td>\n",
       "      <td>0.7502</td>\n",
       "      <td>110.82</td>\n",
       "      <td>1.3137</td>\n",
       "      <td>9402.14</td>\n",
       "      <td>111.00</td>\n",
       "      <td>0.8794</td>\n",
       "      <td>0.7513</td>\n",
       "      <td>1.3155</td>\n",
       "      <td>2788.11</td>\n",
       "    </tr>\n",
       "    <tr>\n",
       "      <th>4</th>\n",
       "      <td>2019-02-27</td>\n",
       "      <td>1.0000</td>\n",
       "      <td>0.8781</td>\n",
       "      <td>0.7548</td>\n",
       "      <td>110.61</td>\n",
       "      <td>1.3170</td>\n",
       "      <td>9427.04</td>\n",
       "      <td>110.58</td>\n",
       "      <td>0.8778</td>\n",
       "      <td>0.7547</td>\n",
       "      <td>1.3168</td>\n",
       "      <td>2787.50</td>\n",
       "    </tr>\n",
       "    <tr>\n",
       "      <th>...</th>\n",
       "      <td>...</td>\n",
       "      <td>...</td>\n",
       "      <td>...</td>\n",
       "      <td>...</td>\n",
       "      <td>...</td>\n",
       "      <td>...</td>\n",
       "      <td>...</td>\n",
       "      <td>...</td>\n",
       "      <td>...</td>\n",
       "      <td>...</td>\n",
       "      <td>...</td>\n",
       "      <td>...</td>\n",
       "    </tr>\n",
       "    <tr>\n",
       "      <th>4706</th>\n",
       "      <td>2000-01-10</td>\n",
       "      <td>0.6373</td>\n",
       "      <td>0.6207</td>\n",
       "      <td>0.3898</td>\n",
       "      <td>67.17</td>\n",
       "      <td>0.9308</td>\n",
       "      <td>7518.70</td>\n",
       "      <td>105.12</td>\n",
       "      <td>0.9713</td>\n",
       "      <td>0.6106</td>\n",
       "      <td>1.4570</td>\n",
       "      <td>1441.50</td>\n",
       "    </tr>\n",
       "    <tr>\n",
       "      <th>4707</th>\n",
       "      <td>2000-01-07</td>\n",
       "      <td>0.6390</td>\n",
       "      <td>0.6242</td>\n",
       "      <td>0.3912</td>\n",
       "      <td>67.85</td>\n",
       "      <td>0.9404</td>\n",
       "      <td>7338.70</td>\n",
       "      <td>105.27</td>\n",
       "      <td>0.9683</td>\n",
       "      <td>0.6108</td>\n",
       "      <td>1.4595</td>\n",
       "      <td>1403.50</td>\n",
       "    </tr>\n",
       "    <tr>\n",
       "      <th>4708</th>\n",
       "      <td>2000-01-06</td>\n",
       "      <td>0.6435</td>\n",
       "      <td>0.6221</td>\n",
       "      <td>0.3912</td>\n",
       "      <td>67.05</td>\n",
       "      <td>0.9317</td>\n",
       "      <td>7177.20</td>\n",
       "      <td>104.32</td>\n",
       "      <td>0.9681</td>\n",
       "      <td>0.6069</td>\n",
       "      <td>1.4502</td>\n",
       "      <td>1402.10</td>\n",
       "    </tr>\n",
       "    <tr>\n",
       "      <th>4709</th>\n",
       "      <td>2000-01-05</td>\n",
       "      <td>0.6429</td>\n",
       "      <td>0.6234</td>\n",
       "      <td>0.3926</td>\n",
       "      <td>66.34</td>\n",
       "      <td>0.9328</td>\n",
       "      <td>7153.10</td>\n",
       "      <td>103.28</td>\n",
       "      <td>0.9711</td>\n",
       "      <td>0.6101</td>\n",
       "      <td>1.4528</td>\n",
       "      <td>1399.40</td>\n",
       "    </tr>\n",
       "    <tr>\n",
       "      <th>4710</th>\n",
       "      <td>2000-01-04</td>\n",
       "      <td>0.6428</td>\n",
       "      <td>0.6236</td>\n",
       "      <td>0.3906</td>\n",
       "      <td>64.85</td>\n",
       "      <td>0.9246</td>\n",
       "      <td>7484.80</td>\n",
       "      <td>101.46</td>\n",
       "      <td>0.9756</td>\n",
       "      <td>0.6115</td>\n",
       "      <td>1.4470</td>\n",
       "      <td>1455.20</td>\n",
       "    </tr>\n",
       "  </tbody>\n",
       "</table>\n",
       "<p>4711 rows × 12 columns</p>\n",
       "</div>"
      ],
      "text/plain": [
       "           Date  Open_CHF_USD  Open_CHF_EUR  Open_CHF_GBP  Open_CHF_JPY  \\\n",
       "0    2019-03-05        1.0009        0.8827        0.7589        111.85   \n",
       "1    2019-03-04        1.0015        0.8797        0.7562        111.88   \n",
       "2    2019-03-01        1.0016        0.8809        0.7553        111.57   \n",
       "3    2019-02-28        0.9984        0.8781        0.7502        110.82   \n",
       "4    2019-02-27        1.0000        0.8781        0.7548        110.61   \n",
       "...         ...           ...           ...           ...           ...   \n",
       "4706 2000-01-10        0.6373        0.6207        0.3898         67.17   \n",
       "4707 2000-01-07        0.6390        0.6242        0.3912         67.85   \n",
       "4708 2000-01-06        0.6435        0.6221        0.3912         67.05   \n",
       "4709 2000-01-05        0.6429        0.6234        0.3926         66.34   \n",
       "4710 2000-01-04        0.6428        0.6236        0.3906         64.85   \n",
       "\n",
       "      Open_CHF_CAD  Open_SMI  Open_USD_JPY  Open_USD_EUR  Open_USD_GBP  \\\n",
       "0           1.3316   9358.95        111.72        0.8820        0.7589   \n",
       "1           1.3307   9431.70        111.77        0.8788        0.7554   \n",
       "2           1.3195   9431.83        111.39        0.8785        0.7540   \n",
       "3           1.3137   9402.14        111.00        0.8794        0.7513   \n",
       "4           1.3170   9427.04        110.58        0.8778        0.7547   \n",
       "...            ...       ...           ...           ...           ...   \n",
       "4706        0.9308   7518.70        105.12        0.9713        0.6106   \n",
       "4707        0.9404   7338.70        105.27        0.9683        0.6108   \n",
       "4708        0.9317   7177.20        104.32        0.9681        0.6069   \n",
       "4709        0.9328   7153.10        103.28        0.9711        0.6101   \n",
       "4710        0.9246   7484.80        101.46        0.9756        0.6115   \n",
       "\n",
       "      Open_USD_CAD  Open_SP500  \n",
       "0           1.3303     2794.41  \n",
       "1           1.3293     2814.37  \n",
       "2           1.3172     2798.22  \n",
       "3           1.3155     2788.11  \n",
       "4           1.3168     2787.50  \n",
       "...            ...         ...  \n",
       "4706        1.4570     1441.50  \n",
       "4707        1.4595     1403.50  \n",
       "4708        1.4502     1402.10  \n",
       "4709        1.4528     1399.40  \n",
       "4710        1.4470     1455.20  \n",
       "\n",
       "[4711 rows x 12 columns]"
      ]
     },
     "execution_count": 64,
     "metadata": {},
     "output_type": "execute_result"
    }
   ],
   "source": [
    "buff = df[0]\n",
    "\n",
    "for d in df[1:]:\n",
    " \n",
    "   buff = buff.merge(d, left_on='Date', right_on='Date')\n",
    "\n",
    "\n",
    "buff"
   ]
  },
  {
   "cell_type": "code",
   "execution_count": 65,
   "metadata": {},
   "outputs": [
    {
     "data": {
      "image/png": "[encoded data removed]",
      "text/plain": [
       "<Figure size 432x288 with 1 Axes>"
      ]
     },
     "metadata": {
      "needs_background": "light"
     },
     "output_type": "display_data"
    }
   ],
   "source": [
    "import matplotlib.pyplot as plt\n",
    "buff.sort_values(by='Date', ascending=True).iloc[:, 1:].plot()\n",
    "plt.show()"
   ]
  },
  {
   "cell_type": "code",
   "execution_count": 68,
   "metadata": {},
   "outputs": [],
   "source": [
    "buff.to_csv('dataset_daily.csv')"
   ]
  },
  {
   "cell_type": "code",
   "execution_count": 67,
   "metadata": {},
   "outputs": [
    {
     "data": {
      "text/plain": [
       "<AxesSubplot:>"
      ]
     },
     "execution_count": 67,
     "metadata": {},
     "output_type": "execute_result"
    },
    {
     "data": {
      "image/png": "[encoded data removed]",
      "text/plain": [
       "<Figure size 432x288 with 1 Axes>"
      ]
     },
     "metadata": {
      "needs_background": "light"
     },
     "output_type": "display_data"
    }
   ],
   "source": [
    "\n",
    "buff = buff.sort_values(by='Date', ascending=True)\n",
    "buff = buff.reset_index(drop=True)\n",
    "buff['Open_SP500'].plot()"
   ]
  },
  {
   "cell_type": "code",
   "execution_count": 61,
   "metadata": {},
   "outputs": [
    {
     "data": {
      "text/plain": [
       "<AxesSubplot:>"
      ]
     },
     "execution_count": 61,
     "metadata": {},
     "output_type": "execute_result"
    },
    {
     "data": {
      "image/png": "[encoded data removed]",
      "text/plain": [
       "<Figure size 432x288 with 1 Axes>"
      ]
     },
     "metadata": {
      "needs_background": "light"
     },
     "output_type": "display_data"
    }
   ],
   "source": []
  },
  {
   "cell_type": "code",
   "execution_count": null,
   "metadata": {},
   "outputs": [],
   "source": []
  }
 ],
 "metadata": {
  "interpreter": {
   "hash": "e6cd1e2431ed720d58c3d7433ac38193d2b2409498dcfdacb5e7d8bbbdf24f0b"
  },
  "kernelspec": {
   "display_name": "Python 3.8.12 ('adaexam')",
   "language": "python",
   "name": "python3"
  },
  "language_info": {
   "codemirror_mode": {
    "name": "ipython",
    "version": 3
   },
   "file_extension": ".py",
   "mimetype": "text/x-python",
   "name": "python",
   "nbconvert_exporter": "python",
   "pygments_lexer": "ipython3",
   "version": "3.8.12"
  },
  "orig_nbformat": 4
 },
 "nbformat": 4,
 "nbformat_minor": 2
}
